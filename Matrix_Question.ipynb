{
 "cells": [
  {
   "cell_type": "code",
   "execution_count": 2,
   "id": "4ce0261d",
   "metadata": {},
   "outputs": [
    {
     "name": "stdout",
     "output_type": "stream",
     "text": [
      "Enter rows: 3\n",
      "Enter columns: 3\n",
      "Enter value for mat00: 0\n",
      "Enter value for mat01: 1\n",
      "Enter value for mat02: 2\n",
      "Enter value for mat10: 0\n",
      "Enter value for mat11: 2\n",
      "Enter value for mat12: 3\n",
      "Enter value for mat20: 0\n",
      "Enter value for mat21: 2\n",
      "Enter value for mat22: 4\n",
      "[[0, 1, 2], [0, 2, 3], [0, 2, 4]]\n"
     ]
    }
   ],
   "source": [
    "# Make the matrix M=[[0,1,2],[0,2,3],[0,2,4]]\n",
    "# using append() function with a temp list\n",
    "\n",
    "mat = []\n",
    "\n",
    "# taking inputs for rows and columns\n",
    "row = int(input('Enter rows: '))\n",
    "col = int(input('Enter columns: '))\n",
    "\n",
    "for i in range(row):\n",
    "    temp = []\n",
    "    for j in range(col):\n",
    "        ele = int(input(f'Enter value for mat{i}{j}: '))\n",
    "        temp.append(ele)\n",
    "    mat.append(temp)\n",
    "\n",
    "# Printing the matrix\n",
    "print(mat)"
   ]
  },
  {
   "cell_type": "code",
   "execution_count": 7,
   "id": "8bea5bdf",
   "metadata": {},
   "outputs": [
    {
     "name": "stdout",
     "output_type": "stream",
     "text": [
      "[[0, 1, 2], [0, 2, 3], [0, 3, 4]]\n"
     ]
    }
   ],
   "source": [
    "# using entry_fn(i,j) by defining the (ij)-th element and list comprehension\n",
    "\n",
    "def entry_fn(i, j):\n",
    "    if j == 0:\n",
    "        return 0\n",
    "    elif j == 1:\n",
    "        return i + 1\n",
    "    elif j == 2:\n",
    "        if i == 1:\n",
    "            return 3\n",
    "        elif i == 2:\n",
    "            return 4\n",
    "        else:\n",
    "            return 2\n",
    "        \n",
    "mat = [[entry_fn(i, j) for j in range(3)] for i in range(3)]\n",
    "\n",
    "# Printing the matrix\n",
    "print(mat)"
   ]
  },
  {
   "cell_type": "code",
   "execution_count": null,
   "id": "58d1df15",
   "metadata": {},
   "outputs": [],
   "source": []
  }
 ],
 "metadata": {
  "kernelspec": {
   "display_name": "Python 3 (ipykernel)",
   "language": "python",
   "name": "python3"
  },
  "language_info": {
   "codemirror_mode": {
    "name": "ipython",
    "version": 3
   },
   "file_extension": ".py",
   "mimetype": "text/x-python",
   "name": "python",
   "nbconvert_exporter": "python",
   "pygments_lexer": "ipython3",
   "version": "3.9.13"
  }
 },
 "nbformat": 4,
 "nbformat_minor": 5
}
